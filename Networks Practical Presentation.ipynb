{
 "cells": [
  {
   "cell_type": "markdown",
   "metadata": {},
   "source": [
    "# Sentiment Analysis Demonstration\n",
    "\n",
    "In this script I will demonstrate how you can perform your own sentiment analysis. I will take some processed data on movie reviews from Kaggle and show you how to pull this data, some transformations, vectorization, and model the sentiment. \n",
    "\n",
    "Data Source:\n",
    "Andrew L. Maas, Raymond E. Daly, Peter T. Pham, Dan Huang, Andrew Y. Ng, and Christopher Potts. (2011). Learning Word Vectors for Sentiment Analysis. The 49th Annual Meeting of the Association for Computational Linguistics (ACL 2011).\n",
    "\n",
    "https://www.kaggle.com/datasets/lakshmi25npathi/imdb-dataset-of-50k-movie-reviews?resource=download"
   ]
  },
  {
   "cell_type": "code",
   "execution_count": 49,
   "metadata": {
    "scrolled": true
   },
   "outputs": [
    {
     "name": "stdout",
     "output_type": "stream",
     "text": [
      "                                              review sentiment\n",
      "0  one review mention watch oz episod hook right ...  positive\n",
      "1  wonder littl product film techniqu unassum old...  positive\n",
      "2  thought wonder way spend time hot summer weeke...  positive\n",
      "3  basic famili littl boy jake think zombi closet...  negative\n",
      "4  petter mattei love time money visual stun film...  positive\n"
     ]
    }
   ],
   "source": [
    "# We start with importing the packages that will be used through out\n",
    "import nltk, random\n",
    "from nltk.corpus import movie_reviews\n",
    "import pandas as pd\n",
    "import matplotlib.pyplot as plt\n",
    "import numpy as np\n",
    "\n",
    "# The dataset has two columns, one with the  text and one with the positive/negative sentiment identifier \n",
    "reviews_df = pd.read_csv('/Users/evgenyb/Desktop/Sentiment_Data/IMDB Dataset.csv')\n",
    "reviews_df = reviews_df.iloc[:2000]\n",
    "\n",
    "import re\n",
    "from nltk.corpus import stopwords\n",
    "from nltk.stem.porter import PorterStemmer \n",
    "\n",
    "# This is a function to clean the text, it is complex for the purpose of the presentation so I will break it down:\n",
    "## first remove any possible HTML character, if you scrape data this will sometimes be present\n",
    "## remove non-alphabetic characters and lower case all of the text\n",
    "## tokenize the text, this is a process for breaking down sentences into the smallest possible parts ('tokens')\n",
    "## remove all of the stopwords, these are the common small words like 'at','if','the',etc\n",
    "## obtain the root of the word also known as 'stemming' ex. 'sitting' --> 'sitt' --> 'sit'\n",
    "def clean_text(text):\n",
    "    text = re.sub('<.*?>', '', text)\n",
    "    text = re.sub('[^a-zA-Z]', ' ', text).lower()\n",
    "    words = nltk.word_tokenize(text)\n",
    "    words = [w for w in words if w not in stopwords.words('english')]\n",
    "    stemmer = PorterStemmer()\n",
    "    words = [stemmer.stem(w) for w in words]\n",
    "    text = ' '.join(words)\n",
    "    return text\n",
    "\n",
    "reviews_df['review']=reviews_df['review'].apply(clean_text)\n",
    "\n",
    "print(reviews_df.head())\n",
    "# The seed records the randomization of the shuffle, we do this so that results can be replecated \n",
    "random.seed(708)\n",
    "random.shuffle(reviews) # randomize order of reviews to have random split of pos/neg reviews in train/test"
   ]
  },
  {
   "cell_type": "markdown",
   "metadata": {},
   "source": [
    "### Splitting Data for Modeling\n",
    "\n",
    "The code below takes the data we have transformed in the first part and splits it into two seperate sets. The first is for training the model, and then next is for testing the model."
   ]
  },
  {
   "cell_type": "code",
   "execution_count": 50,
   "metadata": {},
   "outputs": [],
   "source": [
    "# Defining the train and test sets\n",
    "from sklearn.model_selection import train_test_split\n",
    "X = reviews_df['review']\n",
    "y = reviews_df['sentiment']\n",
    "X_train,X_test,y_train,y_test = train_test_split(X,y, test_size = 0.35, random_state=42) # split our data into train/test\n"
   ]
  },
  {
   "cell_type": "markdown",
   "metadata": {},
   "source": [
    "### Vectorizing \n",
    "\n",
    "Vectorizing is the key in having a functioning NLP model. This process takes all of the words in a text and transforms them into a vector of 1's and 0's. The computer will be able to understand the input afterwards. There are a couple of ways to do this with different algorithms such as: Bag of Words, TF-IDF\n",
    "\n",
    "What each of these methods aims to accomplish is to look for key words within each text. Certain words appear very consistently accross texts and the algorithm will work to remove the importance of these words. Examples of such words are: 'of','the','in','to','at', etc."
   ]
  },
  {
   "cell_type": "code",
   "execution_count": 51,
   "metadata": {},
   "outputs": [],
   "source": [
    "from sklearn.feature_extraction.text import CountVectorizer, TfidfVectorizer\n",
    "\n",
    "tfidVector = TfidfVectorizer(min_df = 10, token_pattern = r'[a-zA-Z]+')\n",
    "X_train_bow = tfidVector.fit_transform(X_train)\n",
    "X_test_bow = tfidVector.transform(X_test)"
   ]
  },
  {
   "cell_type": "markdown",
   "metadata": {},
   "source": [
    "### Model\n",
    "\n",
    "There are many models that can be applied to NLP and there are benefits to each one. In this case I ran it with a logistical regression as the idea behind it is very intuitive. It estimates the probability of an event occuring, and in our case, will show if the text is positive or negative."
   ]
  },
  {
   "cell_type": "code",
   "execution_count": 52,
   "metadata": {},
   "outputs": [
    {
     "name": "stdout",
     "output_type": "stream",
     "text": [
      "0.8228571428571428\n"
     ]
    }
   ],
   "source": [
    "from sklearn.linear_model import LogisticRegression\n",
    "\n",
    "# Import the model that will be used to predict sentiment of the review, I chose logit with no particular reason\n",
    "logit = LogisticRegression()\n",
    "logit.fit(X_train_bow, y_train)\n",
    "\n",
    "print(logit.score(X_test_bow, y_test))"
   ]
  },
  {
   "cell_type": "code",
   "execution_count": 53,
   "metadata": {},
   "outputs": [
    {
     "data": {
      "text/plain": [
       "<sklearn.metrics._plot.confusion_matrix.ConfusionMatrixDisplay at 0x7f7f36ea38b0>"
      ]
     },
     "execution_count": 53,
     "metadata": {},
     "output_type": "execute_result"
    },
    {
     "data": {
      "image/png": "[encoded data removed]",
      "text/plain": [
       "<Figure size 432x288 with 2 Axes>"
      ]
     },
     "metadata": {
      "needs_background": "light"
     },
     "output_type": "display_data"
    }
   ],
   "source": [
    "from sklearn.metrics import confusion_matrix, plot_confusion_matrix\n",
    "\n",
    "# Plot of a matrix to show how consistent the model is\n",
    "plot_confusion_matrix(logit, X_test_bow, y_test, normalize='all',cmap=plt.cm.Blues)"
   ]
  },
  {
   "cell_type": "code",
   "execution_count": 58,
   "metadata": {},
   "outputs": [
    {
     "data": {
      "text/plain": [
       "array(['negative', 'positive'], dtype=object)"
      ]
     },
     "execution_count": 58,
     "metadata": {},
     "output_type": "execute_result"
    }
   ],
   "source": [
    "#Try it with some custom reviews!\n",
    "new_r = ['This movie is bad','This movie is great']\n",
    "new_r_bow = tfidVector.transform(new_r)\n",
    "logit.predict(new_r_bow)"
   ]
  }
 ],
 "metadata": {
  "kernelspec": {
   "display_name": "Python 3",
   "language": "python",
   "name": "python3"
  },
  "language_info": {
   "codemirror_mode": {
    "name": "ipython",
    "version": 3
   },
   "file_extension": ".py",
   "mimetype": "text/x-python",
   "name": "python",
   "nbconvert_exporter": "python",
   "pygments_lexer": "ipython3",
   "version": "3.8.5"
  }
 },
 "nbformat": 4,
 "nbformat_minor": 4
}
