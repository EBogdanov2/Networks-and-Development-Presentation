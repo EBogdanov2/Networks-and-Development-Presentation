{
 "cells": [
  {
   "cell_type": "markdown",
   "metadata": {},
   "source": [
    "# Practical Demonstration for Presentation\n",
    "\n",
    "In this script I will demonstrate how you can perform your own sentiment analysis. I will manipulate a bit of data on movie reviews and then train a model to classify the review as positive or negative. At the end, you will be able to use this to build new sentiment analysis models."
   ]
  },
  {
   "cell_type": "code",
   "execution_count": 6,
   "metadata": {},
   "outputs": [],
   "source": [
    "# We start with importing the packages that will be used through out\n",
    "import nltk, random\n",
    "from nltk.corpus import movie_reviews\n",
    "import pandas as pd\n",
    "import matplotlib.pyplot as plt\n",
    "import numpy as np\n",
    "\n",
    "# The movie_reviews data set in the NLTK Corpus has two main variables we are looking for:\n",
    "## categories - indicates whether the review is positive or negative\n",
    "## words - the content of the review\n",
    "\n",
    "reviews = [(list(movie_reviews.words(fileid)),category)\n",
    "            for category in movie_reviews.categories()\n",
    "            for fileid in movie_reviews.fileids(category)]\n",
    "\n",
    "# The seed records the randomization of the shuffle, we do this so that results can be replecated \n",
    "random.seed(708)\n",
    "random.shuffle(reviews) # randomize order of reviews to have random split of pos/neg reviews in train/test\n"
   ]
  },
  {
   "cell_type": "markdown",
   "metadata": {},
   "source": [
    "### Splitting Data for Modeling\n",
    "\n",
    "The code below takes the data we have transformed in the first part and splits it into two seperate sets. The first is for training the model, and then next is for testing the model."
   ]
  },
  {
   "cell_type": "code",
   "execution_count": 30,
   "metadata": {},
   "outputs": [],
   "source": [
    "from sklearn.model_selection import train_test_split\n",
    "train, test = train_test_split(reviews, test_size = 0.35, random_state=42) # split our data into train/test\n",
    "\n",
    "# Defining the train/test data\n",
    "X_train = [' '.join(words) for (words,label) in train]\n",
    "X_test = [' '.join(words) for (words,label) in test]\n",
    "y_train = [label for (words,label) in train]\n",
    "y_test = [label for (words,label) in test]"
   ]
  },
  {
   "cell_type": "markdown",
   "metadata": {},
   "source": [
    "### Vectorizing \n",
    "\n",
    "Vectorizing is the key in having a functioning NLP model. This process takes all of the words in a text and transforms them into a vector of 1's and 0's. The computer will be able to understand the input afterwards. There are a couple of ways to do this with different algorithms such as: Bag of Words, TF-IDF\n",
    "\n",
    "What each of these methods aims to accomplish is to look for key words within each text. Certain words appear very consistently accross texts and the algorithm will work to remove the importance of these words. Examples of such words are: 'of','the','in','to','at', etc."
   ]
  },
  {
   "cell_type": "code",
   "execution_count": 31,
   "metadata": {},
   "outputs": [],
   "source": [
    "from sklearn.feature_extraction.text import CountVectorizer, TfidfVectorizer\n",
    "\n",
    "tfidVector = TfidfVectorizer(min_df = 10, token_pattern = r'[a-zA-Z]+')\n",
    "X_train_bow = tfidVector.fit_transform(X_train)\n",
    "X_test_bow = tfidVector.transform(X_test)"
   ]
  },
  {
   "cell_type": "markdown",
   "metadata": {},
   "source": [
    "### Model\n",
    "\n",
    "There are many models that can be applied to NLP and there are benefits to each one. In this case I ran it with a logistical regression as the idea behind it is very intuitive. It estimates the probability of an event occuring, and in our case, will show if the text is positive or negative."
   ]
  },
  {
   "cell_type": "code",
   "execution_count": 32,
   "metadata": {},
   "outputs": [
    {
     "name": "stdout",
     "output_type": "stream",
     "text": [
      "0.8085714285714286\n"
     ]
    }
   ],
   "source": [
    "from sklearn.linear_model import LogisticRegression\n",
    "\n",
    "# Import the model that will be used to predict sentiment of the review, I chose logit with no particular reason\n",
    "logit = LogisticRegression()\n",
    "logit.fit(X_train_bow, y_train)\n",
    "\n",
    "print(logit.score(X_test_bow, y_test))"
   ]
  },
  {
   "cell_type": "code",
   "execution_count": 33,
   "metadata": {},
   "outputs": [
    {
     "data": {
      "text/plain": [
       "<sklearn.metrics._plot.confusion_matrix.ConfusionMatrixDisplay at 0x7f97af19fe50>"
      ]
     },
     "execution_count": 33,
     "metadata": {},
     "output_type": "execute_result"
    },
    {
     "data": {
      "image/png": "[encoded data removed]",
      "text/plain": [
       "<Figure size 432x288 with 2 Axes>"
      ]
     },
     "metadata": {
      "needs_background": "light"
     },
     "output_type": "display_data"
    }
   ],
   "source": [
    "from sklearn.metrics import confusion_matrix, plot_confusion_matrix\n",
    "\n",
    "# Plot of a matrix to show how consistent the model is\n",
    "plot_confusion_matrix(logit, X_test_bow, y_test, normalize='all')"
   ]
  }
 ],
 "metadata": {
  "kernelspec": {
   "display_name": "Python 3",
   "language": "python",
   "name": "python3"
  },
  "language_info": {
   "codemirror_mode": {
    "name": "ipython",
    "version": 3
   },
   "file_extension": ".py",
   "mimetype": "text/x-python",
   "name": "python",
   "nbconvert_exporter": "python",
   "pygments_lexer": "ipython3",
   "version": "3.8.5"
  }
 },
 "nbformat": 4,
 "nbformat_minor": 4
}
